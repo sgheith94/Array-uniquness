{
 "cells": [
  {
   "cell_type": "markdown",
   "id": "73265674",
   "metadata": {},
   "source": [
    "# Array uniquness \"Transform and Conquer\""
   ]
  },
  {
   "cell_type": "code",
   "execution_count": 58,
   "id": "e62b505a",
   "metadata": {},
   "outputs": [],
   "source": [
    "array= [9,10,88,1,99,2,10,12,70,99]\n",
    "array2= [90,199,10,88,22,99,0,8]"
   ]
  },
  {
   "cell_type": "markdown",
   "id": "d125d804",
   "metadata": {},
   "source": [
    "#### 1.Presort"
   ]
  },
  {
   "cell_type": "code",
   "execution_count": 42,
   "id": "28d64a01",
   "metadata": {},
   "outputs": [],
   "source": [
    "def BubbleSort(arr):\n",
    "    n = len(arr)\n",
    "    for i in range(n):\n",
    "        for j in range(0, n-i-1):\n",
    "            if arr[j] > arr[j+1] :\n",
    "                arr[j], arr[j+1] = arr[j+1], arr[j]"
   ]
  },
  {
   "cell_type": "markdown",
   "id": "886e3c44",
   "metadata": {},
   "source": [
    "### 2. Search"
   ]
  },
  {
   "cell_type": "code",
   "execution_count": 107,
   "id": "7f3a95e6",
   "metadata": {},
   "outputs": [],
   "source": [
    "def CheckUniquness(array):\n",
    "    BubbleSort(array)\n",
    "    for i in range(0,len(array)-1):\n",
    "        if array[i] == array[i+1]:\n",
    "            return -1 \n",
    "    return 1\n"
   ]
  },
  {
   "cell_type": "code",
   "execution_count": 108,
   "id": "34ecab61",
   "metadata": {},
   "outputs": [
    {
     "data": {
      "text/plain": [
       "-1"
      ]
     },
     "execution_count": 108,
     "metadata": {},
     "output_type": "execute_result"
    }
   ],
   "source": [
    "CheckUniquness(array)"
   ]
  },
  {
   "cell_type": "code",
   "execution_count": 109,
   "id": "9f3fd53e",
   "metadata": {},
   "outputs": [],
   "source": [
    "x=CheckUniquness(array2)"
   ]
  },
  {
   "cell_type": "markdown",
   "id": "778a3fe0",
   "metadata": {},
   "source": [
    "# Hashing"
   ]
  },
  {
   "cell_type": "code",
   "execution_count": 89,
   "id": "1794a243",
   "metadata": {
    "scrolled": true
   },
   "outputs": [],
   "source": [
    "def CheckUniqueness(arr, n):\n",
    " # Insert all elements in Hash.\n",
    "    Hash = dict()\n",
    "    print(Hash.keys())\n",
    "    for i in range(n):\n",
    "        if arr[i] in Hash.keys():\n",
    "            Hash[arr[i]] += 1\n",
    "#             print(Hash[arr[i]])\n",
    "        else:\n",
    "            Hash[arr[i]] = 1\n",
    "    print(Hash)\n",
    "    flag=-1\n",
    "    for i in Hash:\n",
    "        if Hash[i] > 1:\n",
    "            flag=1\n",
    "    if flag == -1:\n",
    "        print(\"DISTINCT\")\n",
    "    else:\n",
    "        print(\"NOTTT\")\n",
    "    "
   ]
  },
  {
   "cell_type": "code",
   "execution_count": 91,
   "id": "d23a54b9",
   "metadata": {},
   "outputs": [
    {
     "data": {
      "text/plain": [
       "[1, 2, 9, 10, 10, 12, 70, 88, 99, 99]"
      ]
     },
     "execution_count": 91,
     "metadata": {},
     "output_type": "execute_result"
    }
   ],
   "source": [
    "array"
   ]
  },
  {
   "cell_type": "code",
   "execution_count": 90,
   "id": "7c2ca2d4",
   "metadata": {},
   "outputs": [
    {
     "name": "stdout",
     "output_type": "stream",
     "text": [
      "dict_keys([])\n",
      "{1: 1, 2: 1, 9: 1, 10: 2, 12: 1, 70: 1, 88: 1, 99: 2}\n",
      "NOTTT\n"
     ]
    }
   ],
   "source": [
    "x=CheckUniqueness(array, len(array))\n",
    "x"
   ]
  },
  {
   "cell_type": "markdown",
   "id": "8c247dde",
   "metadata": {},
   "source": [
    "# Without Key"
   ]
  },
  {
   "cell_type": "markdown",
   "id": "faa73e14",
   "metadata": {},
   "source": [
    "#### 1. Sort the array"
   ]
  },
  {
   "cell_type": "code",
   "execution_count": 117,
   "id": "b9679480",
   "metadata": {},
   "outputs": [],
   "source": [
    "def BubbleSort(arr):\n",
    "    n = len(arr)\n",
    "    for i in range(n):\n",
    "        for j in range(0, n-i-1):\n",
    "            if arr[j] > arr[j+1] :\n",
    "                arr[j], arr[j+1] = arr[j+1], arr[j]"
   ]
  },
  {
   "cell_type": "code",
   "execution_count": 196,
   "id": "19216fd9",
   "metadata": {},
   "outputs": [],
   "source": [
    "array= [9,10,88,77,1,99,2,10,12,88,90,70,99]\n",
    "array2= [90,199,10,88,22,99,0,8]"
   ]
  },
  {
   "cell_type": "code",
   "execution_count": 197,
   "id": "ccd26e67",
   "metadata": {},
   "outputs": [],
   "source": [
    "BubbleSort(array)\n",
    "BubbleSort(array2)"
   ]
  },
  {
   "cell_type": "code",
   "execution_count": 198,
   "id": "0bef4909",
   "metadata": {},
   "outputs": [
    {
     "name": "stdout",
     "output_type": "stream",
     "text": [
      "[1, 2, 9, 10, 10, 12, 70, 77, 88, 88, 90, 99, 99]\n",
      "[0, 8, 10, 22, 88, 90, 99, 199]\n"
     ]
    }
   ],
   "source": [
    "print(array)\n",
    "print(array2)"
   ]
  },
  {
   "cell_type": "markdown",
   "id": "6874aa74",
   "metadata": {},
   "source": [
    "#### 2. Form Hash Table"
   ]
  },
  {
   "cell_type": "code",
   "execution_count": 201,
   "id": "d6444538",
   "metadata": {},
   "outputs": [],
   "source": [
    "def HashTableForm(array,n):\n",
    "    Hash = dict()\n",
    "    index=-1\n",
    "    for i in range(n-1):\n",
    "        if array[i] == array[i+1]:\n",
    "            Hash[array[i]]=2\n",
    "            index=i\n",
    "        elif array[index] != array[i]:\n",
    "            Hash[array[i]]=1\n",
    "    return Hash"
   ]
  },
  {
   "cell_type": "code",
   "execution_count": 202,
   "id": "67727808",
   "metadata": {},
   "outputs": [
    {
     "name": "stdout",
     "output_type": "stream",
     "text": [
      "{1: 1, 2: 1, 9: 1, 10: 2, 12: 1, 70: 1, 77: 1, 88: 2, 90: 1, 99: 2}\n",
      "{0: 1, 8: 1, 10: 1, 22: 1, 88: 1, 90: 1, 99: 1}\n"
     ]
    }
   ],
   "source": [
    "Hash1=HashTableForm(array,len(array))\n",
    "Hash2=HashTableForm(array2,len(array2))\n",
    "print(Hash1)\n",
    "print(Hash2)"
   ]
  },
  {
   "cell_type": "markdown",
   "id": "a7705ba1",
   "metadata": {},
   "source": [
    "#### 3. Check for Uniquness"
   ]
  },
  {
   "cell_type": "code",
   "execution_count": 203,
   "id": "5354ecd8",
   "metadata": {},
   "outputs": [],
   "source": [
    "def CheckForUniquness(Hash):\n",
    "    flag=-1\n",
    "    for i in Hash:\n",
    "        if Hash[i]>1:\n",
    "            flag=1\n",
    "    if flag ==1:\n",
    "        print(\"Distinct\")\n",
    "    else:\n",
    "        print(\"Not Distinct\")"
   ]
  },
  {
   "cell_type": "code",
   "execution_count": 204,
   "id": "27e5345c",
   "metadata": {},
   "outputs": [
    {
     "name": "stdout",
     "output_type": "stream",
     "text": [
      "Distinct\n",
      "Not Distinct\n"
     ]
    }
   ],
   "source": [
    "CheckForUniquness(Hash1)\n",
    "CheckForUniquness(Hash2)"
   ]
  },
  {
   "cell_type": "code",
   "execution_count": null,
   "id": "f1f89819",
   "metadata": {},
   "outputs": [],
   "source": []
  }
 ],
 "metadata": {
  "kernelspec": {
   "display_name": "Python 3",
   "language": "python",
   "name": "python3"
  },
  "language_info": {
   "codemirror_mode": {
    "name": "ipython",
    "version": 3
   },
   "file_extension": ".py",
   "mimetype": "text/x-python",
   "name": "python",
   "nbconvert_exporter": "python",
   "pygments_lexer": "ipython3",
   "version": "3.8.8"
  }
 },
 "nbformat": 4,
 "nbformat_minor": 5
}
